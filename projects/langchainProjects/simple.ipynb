{
 "cells": [
  {
   "cell_type": "markdown",
   "metadata": {},
   "source": [
    "## Basic implementation of Google Gemini"
   ]
  },
  {
   "cell_type": "code",
   "execution_count": 4,
   "metadata": {},
   "outputs": [],
   "source": [
    "from dotenv import load_dotenv\n",
    "import os\n",
    "from langchain_google_genai import ChatGoogleGenerativeAI"
   ]
  },
  {
   "cell_type": "code",
   "execution_count": 5,
   "metadata": {},
   "outputs": [],
   "source": [
    "load_dotenv()\n",
    "GOOGLE_API_KEY = os.getenv(\"GOOGLE_API_KEY\")\n",
    "llm = ChatGoogleGenerativeAI(model=\"gemini-1.5-pro\", google_api_key=GOOGLE_API_KEY)"
   ]
  },
  {
   "cell_type": "code",
   "execution_count": 7,
   "metadata": {},
   "outputs": [
    {
     "name": "stdout",
     "output_type": "stream",
     "text": [
      "The capital of Pakistan is Islamabad.\n"
     ]
    }
   ],
   "source": [
    "\n",
    "\n",
    "message = llm.invoke(\"What is the capital of pakistan\")\n",
    "print(message.content)"
   ]
  },
  {
   "cell_type": "markdown",
   "metadata": {},
   "source": [
    "## Langchain PromptTemplates"
   ]
  },
  {
   "cell_type": "code",
   "execution_count": 26,
   "metadata": {},
   "outputs": [
    {
     "name": "stdout",
     "output_type": "stream",
     "text": [
      "C\n"
     ]
    }
   ],
   "source": [
    "from langchain.prompts import PromptTemplate\n",
    "\n",
    "prompt = PromptTemplate.from_template(\"What is the this given language: {content}, Give only one word answer, based on the language only. For Example User Input: test = 100, Output: Javascript\")\n",
    "\n",
    "print(llm.invoke(prompt.format(content = \"#include <stdlib.h>\")).content)"
   ]
  },
  {
   "cell_type": "markdown",
   "metadata": {},
   "source": [
    "### Langchain Chains"
   ]
  },
  {
   "cell_type": "code",
   "execution_count": 27,
   "metadata": {},
   "outputs": [
    {
     "name": "stdout",
     "output_type": "stream",
     "text": [
      "Python\n"
     ]
    }
   ],
   "source": [
    "from langchain.chains import LLMChain\n",
    "\n",
    "llm_chain = LLMChain(llm = llm, prompt = prompt)\n",
    "\n",
    "print(llm_chain.run(\"from langchain.prompts import PromptTemplate\"))"
   ]
  },
  {
   "cell_type": "markdown",
   "metadata": {},
   "source": [
    "#### Multiple variables chaining"
   ]
  },
  {
   "cell_type": "code",
   "execution_count": 30,
   "metadata": {},
   "outputs": [],
   "source": [
    "complex_prompt = PromptTemplate.from_template(\"What is the capital of the {country} and the currency of the {country}, The city must be {city}\")\n",
    "complex_llm_chain = LLMChain(llm = llm, prompt = complex_prompt)"
   ]
  },
  {
   "cell_type": "code",
   "execution_count": 33,
   "metadata": {},
   "outputs": [
    {
     "name": "stdout",
     "output_type": "stream",
     "text": [
      "The capital of India is New Delhi, not Karachi.  Karachi is a major city in Pakistan.\n",
      "\n",
      "The currency of India is the Indian Rupee (INR).\n"
     ]
    }
   ],
   "source": [
    "print(complex_llm_chain.run(country = \"India\" , city = \"Karachi\"))"
   ]
  },
  {
   "cell_type": "markdown",
   "metadata": {},
   "source": [
    "### Sequential Prompt Template"
   ]
  },
  {
   "cell_type": "code",
   "execution_count": 46,
   "metadata": {},
   "outputs": [
    {
     "name": "stdout",
     "output_type": "stream",
     "text": [
      "Python's versatility leads to a wide range of use cases across various domains. Here are a few prominent examples:\n",
      "\n",
      "**1. Web Development:**\n",
      "\n",
      "* **Back-end development:** Python frameworks like Django and Flask simplify the creation of robust and scalable web applications. They handle routing, database interactions, security, and other essential tasks.\n",
      "* **Web scraping:** Libraries like Beautiful Soup and Scrapy allow for automated extraction of data from websites, useful for market research, price comparison, and content aggregation.\n",
      "\n",
      "**2. Data Science and Machine Learning:**\n",
      "\n",
      "* **Data analysis and visualization:** Libraries like Pandas, NumPy, and Matplotlib enable efficient data manipulation, analysis, and creation of insightful visualizations.\n",
      "* **Machine learning model development:**  Scikit-learn, TensorFlow, and PyTorch provide powerful tools for building and training various machine learning models, from simple linear regression to complex neural networks.\n",
      "* **Deep learning:** Python's extensive libraries and frameworks are the industry standard for deep learning research and applications, including image recognition, natural language processing, and robotics.\n",
      "\n",
      "**3. Scripting and Automation:**\n",
      "\n",
      "* **System administration:** Python simplifies automating repetitive tasks like file management, network operations, and software deployment.\n",
      "* **Test automation:** Frameworks like pytest and unittest facilitate writing and executing automated tests for software quality assurance.\n",
      "* **Web testing:** Libraries like Selenium enable automated testing of web applications.\n",
      "\n",
      "**4. Desktop Applications:**\n",
      "\n",
      "* **GUI development:** Libraries like Tkinter, PyQt, and Kivy enable the creation of cross-platform desktop applications with graphical user interfaces.\n",
      "* **Game development:** Pygame offers a simple yet effective platform for developing 2D games.\n",
      "\n",
      "**5. Scientific Computing:**\n",
      "\n",
      "* **Numerical computation:** Libraries like SciPy provide tools for scientific and mathematical computations, including linear algebra, optimization, and signal processing.\n",
      "* **Bioinformatics:** Biopython offers functionalities for biological data analysis and manipulation.\n",
      "\n",
      "\n",
      "**6. DevOps:**\n",
      "\n",
      "* **Infrastructure automation:**  Tools like Ansible and SaltStack leverage Python for automating server configuration and deployment.\n",
      "* **Cloud computing:**  Python is widely used for interacting with cloud platforms like AWS, Azure, and Google Cloud.\n",
      "\n",
      "\n",
      "These are just a few of the many areas where Python excels.  Its clear syntax, extensive libraries, and active community make it a popular choice for both beginners and experienced developers.\n"
     ]
    }
   ],
   "source": [
    "from langchain.chains import SimpleSequentialChain\n",
    "\n",
    "\n",
    "prompt1 = PromptTemplate.from_template(\"What is this language: {content}, Give only one word answer, based on the language only. For Example User Input: test = 100, Output: Javascript\")\n",
    "\n",
    "chain1 = LLMChain(llm = llm, prompt = prompt1 , output_key = \"language\")\n",
    "\n",
    "prompt2 = PromptTemplate.from_template(\"Based on the {language} that was found, State few use cases of that language.\")\n",
    "chain2 = LLMChain(llm = llm, prompt = prompt2 , output_key = \"use_cases\") \n",
    "\n",
    "sChain = SimpleSequentialChain(chains=[chain1, chain2] , output_variables=[\"language\", \"use_cases\"])\n",
    "\n",
    "print(sChain.run(\"from langchain.prompts import PromptTemplate\"))"
   ]
  }
 ],
 "metadata": {
  "kernelspec": {
   "display_name": "Python 3",
   "language": "python",
   "name": "python3"
  },
  "language_info": {
   "codemirror_mode": {
    "name": "ipython",
    "version": 3
   },
   "file_extension": ".py",
   "mimetype": "text/x-python",
   "name": "python",
   "nbconvert_exporter": "python",
   "pygments_lexer": "ipython3",
   "version": "3.13.1"
  }
 },
 "nbformat": 4,
 "nbformat_minor": 2
}
