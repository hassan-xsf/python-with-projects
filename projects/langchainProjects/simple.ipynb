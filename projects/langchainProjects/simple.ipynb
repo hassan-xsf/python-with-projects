{
 "cells": [
  {
   "cell_type": "markdown",
   "metadata": {},
   "source": [
    "## Basic implementation of Google Gemini"
   ]
  },
  {
   "cell_type": "code",
   "execution_count": 4,
   "metadata": {},
   "outputs": [],
   "source": [
    "from dotenv import load_dotenv\n",
    "import os\n",
    "from langchain_google_genai import ChatGoogleGenerativeAI"
   ]
  },
  {
   "cell_type": "code",
   "execution_count": 5,
   "metadata": {},
   "outputs": [],
   "source": [
    "load_dotenv()\n",
    "GOOGLE_API_KEY = os.getenv(\"GOOGLE_API_KEY\")\n",
    "llm = ChatGoogleGenerativeAI(model=\"gemini-1.5-pro\", google_api_key=GOOGLE_API_KEY)"
   ]
  },
  {
   "cell_type": "code",
   "execution_count": 7,
   "metadata": {},
   "outputs": [
    {
     "name": "stdout",
     "output_type": "stream",
     "text": [
      "The capital of Pakistan is Islamabad.\n"
     ]
    }
   ],
   "source": [
    "\n",
    "\n",
    "message = llm.invoke(\"What is the capital of pakistan\")\n",
    "print(message.content)"
   ]
  },
  {
   "cell_type": "markdown",
   "metadata": {},
   "source": [
    "## Langchain PromptTemplates"
   ]
  },
  {
   "cell_type": "code",
   "execution_count": 26,
   "metadata": {},
   "outputs": [
    {
     "name": "stdout",
     "output_type": "stream",
     "text": [
      "C\n"
     ]
    }
   ],
   "source": [
    "from langchain.prompts import PromptTemplate\n",
    "\n",
    "prompt = PromptTemplate.from_template(\"What is the this given language: {content}, Give only one word answer, based on the language only. For Example User Input: test = 100, Output: Javascript\")\n",
    "\n",
    "print(llm.invoke(prompt.format(content = \"#include <stdlib.h>\")).content)"
   ]
  },
  {
   "cell_type": "markdown",
   "metadata": {},
   "source": [
    "### Langchain Chains"
   ]
  },
  {
   "cell_type": "code",
   "execution_count": 27,
   "metadata": {},
   "outputs": [
    {
     "name": "stdout",
     "output_type": "stream",
     "text": [
      "Python\n"
     ]
    }
   ],
   "source": [
    "from langchain.chains import LLMChain\n",
    "\n",
    "llm_chain = LLMChain(llm = llm, prompt = prompt)\n",
    "\n",
    "print(llm_chain.run(\"from langchain.prompts import PromptTemplate\"))"
   ]
  },
  {
   "cell_type": "markdown",
   "metadata": {},
   "source": [
    "#### Multiple variables chaining"
   ]
  },
  {
   "cell_type": "code",
   "execution_count": 30,
   "metadata": {},
   "outputs": [],
   "source": [
    "complex_prompt = PromptTemplate.from_template(\"What is the capital of the {country} and the currency of the {country}, The city must be {city}\")\n",
    "complex_llm_chain = LLMChain(llm = llm, prompt = complex_prompt)"
   ]
  },
  {
   "cell_type": "code",
   "execution_count": 33,
   "metadata": {},
   "outputs": [
    {
     "name": "stdout",
     "output_type": "stream",
     "text": [
      "The capital of India is New Delhi, not Karachi.  Karachi is a major city in Pakistan.\n",
      "\n",
      "The currency of India is the Indian Rupee (INR).\n"
     ]
    }
   ],
   "source": [
    "print(complex_llm_chain.run(country = \"India\" , city = \"Karachi\"))"
   ]
  },
  {
   "cell_type": "markdown",
   "metadata": {},
   "source": [
    "### Sequential Prompt Template"
   ]
  },
  {
   "cell_type": "code",
   "execution_count": 48,
   "metadata": {},
   "outputs": [
    {
     "name": "stdout",
     "output_type": "stream",
     "text": [
      "Python's versatility leads to a wide range of use cases across various domains. Here are a few prominent examples:\n",
      "\n",
      "**Web Development:**\n",
      "\n",
      "* **Building web applications:** Frameworks like Django and Flask simplify the creation of robust and scalable web applications, handling backend logic, database interactions, and user authentication.  Instagram, Spotify, and Pinterest utilize Python for their backend infrastructure.\n",
      "* **API development:** Python's ease of use and libraries like Flask-RESTful and Django REST framework make it ideal for creating RESTful APIs that allow different applications to communicate with each other.\n",
      "* **Web scraping:** Libraries like Beautiful Soup and Scrapy enable extracting data from websites for various purposes, such as market research, price comparison, and data analysis.\n",
      "\n",
      "**Data Science and Machine Learning:**\n",
      "\n",
      "* **Data analysis and visualization:** Libraries like Pandas, NumPy, and Matplotlib provide powerful tools for data manipulation, analysis, and creating insightful visualizations.\n",
      "* **Machine learning model development:**  Scikit-learn, TensorFlow, and PyTorch are popular libraries used for building and training machine learning models for tasks like classification, regression, and clustering.  Applications include image recognition, natural language processing, and predictive analytics.\n",
      "* **Deep learning:** Python is the dominant language in deep learning, with frameworks like TensorFlow and PyTorch enabling the development of complex neural networks.\n",
      "\n",
      "**Scripting and Automation:**\n",
      "\n",
      "* **Automating repetitive tasks:** Python scripts can automate tasks like file management, system administration, and web testing, saving time and effort.\n",
      "* **Scripting for software applications:**  Python can be embedded in other applications to provide scripting capabilities.  For example, Blender uses Python for scripting and automation within its 3D modeling environment.\n",
      "* **DevOps and system administration:** Python is frequently used for automating tasks related to server management, deployment, and infrastructure monitoring.\n",
      "\n",
      "**Other Notable Use Cases:**\n",
      "\n",
      "* **Game development:** Libraries like Pygame simplify game development, particularly for 2D games and prototypes.\n",
      "* **Desktop GUI applications:** Libraries like Tkinter, PyQt, and Kivy allow creating cross-platform desktop applications.\n",
      "* **Scientific computing:** Python's libraries for numerical computation and scientific data analysis make it a valuable tool in fields like physics, biology, and engineering.\n",
      "* **Education and teaching:** Python's clear syntax and beginner-friendliness make it a popular language for teaching programming concepts.\n",
      "\n",
      "\n",
      "This is not an exhaustive list, but it highlights the breadth and depth of Python's applications. Its extensive libraries, active community, and ease of use continue to make it a popular choice for developers across various domains.\n"
     ]
    }
   ],
   "source": [
    "from langchain.chains import SimpleSequentialChain\n",
    "\n",
    "\n",
    "prompt1 = PromptTemplate.from_template(\"What is this language: {content}, Give only one word answer, based on the language only. For Example User Input: test = 100, Output: Javascript\")\n",
    "\n",
    "chain1 = LLMChain(llm = llm, prompt = prompt1 , output_key = \"language\")\n",
    "\n",
    "prompt2 = PromptTemplate.from_template(\"Based on the {language} that was found, State few use cases of that language.\")\n",
    "chain2 = LLMChain(llm = llm, prompt = prompt2 , output_key = \"use_cases\") \n",
    "\n",
    "sChain = SimpleSequentialChain(chains=[chain1, chain2])\n",
    "\n",
    "print(sChain.run(\"from langchain.prompts import PromptTemplate\"))"
   ]
  },
  {
   "cell_type": "markdown",
   "metadata": {},
   "source": [
    "## Custom Explanor"
   ]
  },
  {
   "cell_type": "code",
   "execution_count": 53,
   "metadata": {},
   "outputs": [
    {
     "data": {
      "text/plain": [
       "AIMessage(content='Fireship is a popular YouTube channel and online learning platform created by Jeff Delaney.  It focuses on web development tutorials, covering topics like JavaScript frameworks (React, Angular, Vue.js), Firebase, Flutter, and other modern technologies.\\n\\n**Use Cases:** Learning to code, staying up-to-date with the latest web technologies, building projects.\\n\\n**Popular for:**  Concise and fast-paced tutorials, high-quality production, and covering trending topics.', additional_kwargs={}, response_metadata={'prompt_feedback': {'block_reason': 0, 'safety_ratings': []}, 'finish_reason': 'STOP', 'safety_ratings': []}, id='run-c4b9d05e-101b-4e65-a990-e847668eeca4-0', usage_metadata={'input_tokens': 64, 'output_tokens': 97, 'total_tokens': 161, 'input_token_details': {'cache_read': 0}})"
      ]
     },
     "execution_count": 53,
     "metadata": {},
     "output_type": "execute_result"
    }
   ],
   "source": [
    "from langchain.schema import HumanMessage , AIMessage , SystemMessage\n",
    "\n",
    "llm = ChatGoogleGenerativeAI(model=\"gemini-1.5-pro\", google_api_key=GOOGLE_API_KEY)\n",
    "\n",
    "customPrompt = \"You are a specialized AI model that can answer questions in a very easy way\\\n",
    "    For Example: USER: What is Langchain? AI: Langchain is a python library that helps you to interact with different AI models, Use Cases: XYZ , Big companies that uses it: Blah blah\"\n",
    "\n",
    "llm.invoke([SystemMessage(content=customPrompt) , HumanMessage(content=\"Who is Fireship?\")])\n"
   ]
  },
  {
   "cell_type": "markdown",
   "metadata": {},
   "source": [
    "## Chaining and Base Output (CONFUSED)"
   ]
  },
  {
   "cell_type": "code",
   "execution_count": 54,
   "metadata": {},
   "outputs": [],
   "source": [
    "from langchain_google_genai import ChatGoogleGenerativeAI\n",
    "from langchain.prompts.chat import ChatPromptTemplate\n",
    "from langchain.schema import BaseOutputParser\n",
    "\n",
    "llm = ChatGoogleGenerativeAI(model=\"gemini-1.5-pro\", google_api_key=GOOGLE_API_KEY)\n"
   ]
  },
  {
   "cell_type": "code",
   "execution_count": 55,
   "metadata": {},
   "outputs": [],
   "source": [
    "class CommaSeperatedOutput(BaseOutputParser):\n",
    "    def parse(self, text):\n",
    "        return text.strip().split(\",\")"
   ]
  },
  {
   "cell_type": "code",
   "execution_count": 70,
   "metadata": {},
   "outputs": [],
   "source": [
    "chatPrompt = ChatPromptTemplate.from_messages([\n",
    "    (\"system\", \"You are a helpful AI assistant gives five different synonyms for each selected word, Seperate the words using commas please.\"),\n",
    "    (\"human\" , \"{text}\")\n",
    "])"
   ]
  },
  {
   "cell_type": "code",
   "execution_count": 71,
   "metadata": {},
   "outputs": [
    {
     "name": "stdout",
     "output_type": "stream",
     "text": [
      "['bright', ' clever', ' brilliant', ' sharp', ' astute']\n"
     ]
    }
   ],
   "source": [
    "chain = LLMChain(llm=llm, prompt=chatPrompt , output_parser=CommaSeperatedOutput())\n",
    "\n",
    "print(chain.run({\"text\": \"intelligent\"}))"
   ]
  },
  {
   "cell_type": "code",
   "execution_count": null,
   "metadata": {},
   "outputs": [],
   "source": []
  }
 ],
 "metadata": {
  "kernelspec": {
   "display_name": "Python 3",
   "language": "python",
   "name": "python3"
  },
  "language_info": {
   "codemirror_mode": {
    "name": "ipython",
    "version": 3
   },
   "file_extension": ".py",
   "mimetype": "text/x-python",
   "name": "python",
   "nbconvert_exporter": "python",
   "pygments_lexer": "ipython3",
   "version": "3.13.1"
  }
 },
 "nbformat": 4,
 "nbformat_minor": 2
}
